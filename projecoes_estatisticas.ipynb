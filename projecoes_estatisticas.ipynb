{
 "cells": [
  {
   "cell_type": "code",
   "execution_count": null,
   "metadata": {},
   "outputs": [],
   "source": [
    "# Import modules\n",
    "import numpy as np # Numeric operations\n",
    "import pandas as pd # Data manipulation\n",
    "import matplotlib.pyplot as plt # Plots\n",
    "plt.style.use('seaborn')\n",
    "import seaborn as sns\n",
    "import pickle\n",
    "\n",
    "import warnings\n",
    "warnings.filterwarnings(\"ignore\")\n",
    "\n",
    "## Location to models in api.\n",
    "\n",
    "path='WEB MachineLearning model deployed with Flask/static/modelos/'"
   ]
  },
  {
   "cell_type": "code",
   "execution_count": null,
   "metadata": {},
   "outputs": [],
   "source": [
    "# Read the initial dataset\n",
    "apy = pd.read_csv('apy.csv')\n",
    "\"\"\"\n",
    "Context\n",
    "Historical data of Indian agricultural\n",
    "production on various location acquired from the Indian government web page.\n",
    "https://data.gov.in\"\"\";"
   ]
  },
  {
   "cell_type": "code",
   "execution_count": null,
   "metadata": {},
   "outputs": [],
   "source": [
    "# A Look in the dataframe\n",
    "apy.head()"
   ]
  },
  {
   "cell_type": "code",
   "execution_count": null,
   "metadata": {},
   "outputs": [],
   "source": [
    "# Check Shape\n",
    "apy.shape"
   ]
  },
  {
   "cell_type": "code",
   "execution_count": null,
   "metadata": {},
   "outputs": [],
   "source": [
    "# Check Variable types\n",
    "apy.dtypes\n",
    "\n",
    "# Production tem problema !"
   ]
  },
  {
   "cell_type": "code",
   "execution_count": null,
   "metadata": {},
   "outputs": [],
   "source": [
    "# check for null values\n",
    "apy.isnull().sum()"
   ]
  },
  {
   "cell_type": "code",
   "execution_count": null,
   "metadata": {},
   "outputs": [],
   "source": [
    "apy[apy['Production'] == '='].head(2)"
   ]
  },
  {
   "cell_type": "code",
   "execution_count": null,
   "metadata": {},
   "outputs": [],
   "source": [
    "#Years in apy dataset\n",
    "#sorted((apy.Crop_Year.value_counts().index))"
   ]
  },
  {
   "cell_type": "code",
   "execution_count": null,
   "metadata": {},
   "outputs": [],
   "source": [
    "gdp = pd.read_csv('API_NY.GDP.MKTP.CD_DS2_en_csv_v2_247793.csv', skiprows=4)"
   ]
  },
  {
   "cell_type": "code",
   "execution_count": null,
   "metadata": {},
   "outputs": [],
   "source": [
    "gdp.head(3)"
   ]
  },
  {
   "cell_type": "code",
   "execution_count": null,
   "metadata": {
    "scrolled": true
   },
   "outputs": [],
   "source": [
    "# Locate India\n",
    "gdp.loc[gdp['Country Name'] == 'India']"
   ]
  },
  {
   "cell_type": "code",
   "execution_count": null,
   "metadata": {},
   "outputs": [],
   "source": [
    "# Select only 1997-2015\n",
    "start_year = gdp.columns.get_loc('1997')\n",
    "end_year = gdp.columns.get_loc('2015')\n",
    "# India is row 107\n",
    "gdp_9715 = gdp.iloc[107, start_year:end_year+1]"
   ]
  },
  {
   "cell_type": "code",
   "execution_count": null,
   "metadata": {},
   "outputs": [],
   "source": [
    "# Create a Dataframe for gdp\n",
    "gdp_9715_idx = gdp_9715.index[:]\n",
    "gdp_dict = {'Year': gdp_9715_idx, 'GDP': gdp_9715}\n",
    "gdp_df = pd.DataFrame(gdp_dict)\n",
    "gdp_df = gdp_df.reset_index(drop=True)\n",
    "gdp_df.head()"
   ]
  },
  {
   "cell_type": "code",
   "execution_count": null,
   "metadata": {},
   "outputs": [],
   "source": [
    "# Check if Crop_Year have all values from 1997 to 2015\n",
    "apy_crop_year = apy['Crop_Year']\n",
    "apy_crop_year.unique()"
   ]
  },
  {
   "cell_type": "code",
   "execution_count": null,
   "metadata": {},
   "outputs": [],
   "source": [
    "# Check Datatypes\n",
    "gdp_df.dtypes"
   ]
  },
  {
   "cell_type": "code",
   "execution_count": null,
   "metadata": {},
   "outputs": [],
   "source": [
    "# Convert year to int\n",
    "gdp_df['Year'] = gdp_df['Year'].astype(int)"
   ]
  },
  {
   "cell_type": "code",
   "execution_count": null,
   "metadata": {},
   "outputs": [],
   "source": [
    "# Map all GDP values to the respective year\n",
    "rename_dict = gdp_df.set_index('Year').to_dict()['GDP']\n",
    "apy_crop_year = apy_crop_year.replace(rename_dict)\n",
    "# Create the definitive GDP Dataframe\n",
    "apy_crop_year_dict = {'GDP': apy_crop_year}\n",
    "gdp_final = pd.DataFrame(apy_crop_year_dict)"
   ]
  },
  {
   "cell_type": "code",
   "execution_count": null,
   "metadata": {},
   "outputs": [],
   "source": [
    "# See the data type\n",
    "gdp_final['GDP'].dtype"
   ]
  },
  {
   "cell_type": "code",
   "execution_count": null,
   "metadata": {},
   "outputs": [],
   "source": [
    "# Concatenate the DataFrames\n",
    "india_crop_gdp_1997_2015 = pd.concat([apy, gdp_final], axis=1, sort=False)"
   ]
  },
  {
   "cell_type": "code",
   "execution_count": null,
   "metadata": {
    "scrolled": true
   },
   "outputs": [],
   "source": [
    "# A look into DataFrame\n",
    "india_crop_gdp_1997_2015.head()"
   ]
  },
  {
   "cell_type": "code",
   "execution_count": null,
   "metadata": {},
   "outputs": [],
   "source": [
    "# Save as .csv\n",
    "india_crop_gdp_1997_2015.to_csv('india_crop_gdp_1997_2015.csv')"
   ]
  },
  {
   "cell_type": "code",
   "execution_count": null,
   "metadata": {},
   "outputs": [],
   "source": [
    "india_crop_gdp_1997_2015= pd.read_csv('india_crop_gdp_1997_2015.csv')\n",
    "india_crop_gdp_1997_2015.columns"
   ]
  },
  {
   "cell_type": "code",
   "execution_count": null,
   "metadata": {},
   "outputs": [],
   "source": [
    "# Label Enconding\n",
    "from sklearn import preprocessing\n",
    "RelationItens ={}\n",
    "for f in india_crop_gdp_1997_2015.columns:\n",
    "    if f == 'Production':\n",
    "        continue\n",
    "    if india_crop_gdp_1997_2015[f].dtype =='object': \n",
    "        le = preprocessing.LabelEncoder()\n",
    "        itens = (sorted(list(india_crop_gdp_1997_2015[f].value_counts().index)))\n",
    "        le.fit(list(india_crop_gdp_1997_2015[f].values))\n",
    "        itens_edited = le.transform(itens)\n",
    "        RelationItens[f]={b:a for a,b in zip (itens,itens_edited)}\n",
    "        india_crop_gdp_1997_2015[f] = le.transform(list(india_crop_gdp_1997_2015[f].values))\n",
    "#del RelationItens['Production']\n",
    "RelationItens.keys()"
   ]
  },
  {
   "cell_type": "code",
   "execution_count": null,
   "metadata": {},
   "outputs": [],
   "source": [
    "#for i in RelationItens['Season']:\n",
    "#    print ('        <option value=\"{}\">{}</option>'.format(i[1],i[0]))"
   ]
  },
  {
   "cell_type": "markdown",
   "metadata": {},
   "source": [
    "# Separação do data set\n",
    "\n",
    "## Usaremos 2 datasets para aplicar a pesquisa! O que acontece é que a coluna de Produção apresenta problemas em alguns valores. Todavia algoritimo 1 não será interferido por esse problema !\n",
    "\n",
    "\n",
    "### Algorithm 1. Problema de Classificação ! usaremos o dataset original.\n",
    "\n",
    "### Algorithm 2. Problema de Regressão ! Usaremos uma variação do dataset. Onde retiramos os problemas na coluna de Production!"
   ]
  },
  {
   "cell_type": "markdown",
   "metadata": {},
   "source": [
    "# Model 1 - Classification Problem (Decision Tree Classifier)\n",
    "\n",
    "- Algoritmo 1:  Objetivo: descobrir a CROP (Cultivo). A partir de 3 dados aleatórios (AREA, STATE, DISTRICT) inseridos pelo usuário, seja calculado o resultado de CROP"
   ]
  },
  {
   "cell_type": "code",
   "execution_count": null,
   "metadata": {},
   "outputs": [],
   "source": [
    "# Select variables (Features)\n",
    "X1 = india_crop_gdp_1997_2015[['Area', 'District_Name', 'Season']]\n",
    "y1 = india_crop_gdp_1997_2015['Crop']"
   ]
  },
  {
   "cell_type": "code",
   "execution_count": null,
   "metadata": {},
   "outputs": [],
   "source": [
    "# Split Train and Test\n",
    "from sklearn.model_selection import train_test_split\n",
    "from sklearn.tree import DecisionTreeClassifier\n",
    "\n",
    "x1_train, x1_test, y1_train, y1_test = train_test_split(X1, y1, \n",
    "                                                    test_size = 0.15,\n",
    "                                                   random_state = 42)\n",
    "\n",
    "model1 = DecisionTreeClassifier(random_state=42)\n",
    "model1.fit(x1_train, y1_train)"
   ]
  },
  {
   "cell_type": "code",
   "execution_count": null,
   "metadata": {},
   "outputs": [],
   "source": [
    "# Predict and calculate scores\n",
    "from sklearn.metrics import accuracy_score\n",
    "from sklearn.metrics import precision_score\n",
    "from sklearn.metrics import recall_score\n",
    "from sklearn.metrics import f1_score\n",
    "from sklearn.metrics import roc_auc_score\n",
    "from sklearn.metrics import confusion_matrix\n",
    "\n",
    "y1_pred = model1.predict(x1_test)\n",
    "acc = accuracy_score(y1_test, y1_pred)\n",
    "pre = precision_score(y1_test, y1_pred, average='micro')\n",
    "rec = recall_score(y1_test, y1_pred, average='micro')\n",
    "f1 = f1_score(y1_test, y1_pred, average='micro')\n",
    "\n",
    "\n",
    "print('Accuracy: ', acc)\n",
    "print('Precision: ', pre)\n",
    "print('Recall: ', rec)\n",
    "print('F1-Score: ', f1)"
   ]
  },
  {
   "cell_type": "code",
   "execution_count": null,
   "metadata": {},
   "outputs": [],
   "source": [
    "#------   Saving the model with pickle -----------------\n",
    "# Define o nome do arquivo em disco que irá guardar o nosso modelo\n",
    "filename = 'model_1_FindCrop.sav'\n",
    "# salva o modelo no disco\n",
    "pickle.dump(model1, open(path+filename, 'wb'))"
   ]
  },
  {
   "cell_type": "markdown",
   "metadata": {},
   "source": [
    "# Model 2 - Regression Linear !\n",
    "\n",
    "- Algoritmo 2: Objetivo: descobrir a PRODUCTION (Produção agrícola de um cultivo). A partir de 3 dados aleatórios (AREA, CROP e GDP) inseridos pelo usuário, seja calculado o resultado de PRODUCTION"
   ]
  },
  {
   "cell_type": "code",
   "execution_count": null,
   "metadata": {},
   "outputs": [],
   "source": [
    "#Retiro os itens com erro na produção\n",
    "# Existem produção que possuem o valor =\n",
    "list1 = (list(india_crop_gdp_1997_2015['Crop'].value_counts().index))\n",
    "df = india_crop_gdp_1997_2015[india_crop_gdp_1997_2015['Production'] != '=']\n",
    "# Transformo produção em float\n",
    "df['Production']=df['Production'].astype(float)\n",
    "\n",
    "#Pego apenas valores de produção com Valores maiores que zero.\n",
    "#Pois algum erro deve ter acontecido e encheu nosso dataframe de zero.\n",
    "#Prejudicando as predições.\n",
    "\n",
    "df2 = df.query('Production > 0')\n",
    "\n",
    "list2 = list(df2['Crop'].value_counts().index)\n",
    "list2=sorted(list2)\n",
    "\n",
    "diferenca = [x for x in list1 if x not in list2]\n",
    "#[x for x in list1 if ]\n",
    "\n",
    "#lista_final\n",
    "print( 'Os elementos', sorted(diferenca), 'não possuem dados suficientes para realizar a projeção !')"
   ]
  },
  {
   "cell_type": "code",
   "execution_count": null,
   "metadata": {
    "scrolled": true
   },
   "outputs": [],
   "source": [
    "#india_crop_gdp_1997_2015.query(\"Crop == 1\")"
   ]
  },
  {
   "cell_type": "markdown",
   "metadata": {},
   "source": [
    "### Visualizando os dados:"
   ]
  },
  {
   "cell_type": "code",
   "execution_count": null,
   "metadata": {},
   "outputs": [],
   "source": [
    "plt.scatter(df['Area'],df['Production'])"
   ]
  },
  {
   "cell_type": "markdown",
   "metadata": {},
   "source": [
    "### Separando os dados por grupos de Cultivo. Faz sentido analizar a produção de banana com banana, maça com maça, etc."
   ]
  },
  {
   "cell_type": "code",
   "execution_count": null,
   "metadata": {},
   "outputs": [],
   "source": [
    "a=list(df2.groupby('Crop'))\n",
    "len(a)"
   ]
  },
  {
   "cell_type": "code",
   "execution_count": null,
   "metadata": {
    "scrolled": true
   },
   "outputs": [],
   "source": [
    "# Plotando um elemento dos itens agrupados\n",
    "plt.scatter(a[7][1]['Area'], a[7][1]['Production'])"
   ]
  },
  {
   "cell_type": "markdown",
   "metadata": {},
   "source": [
    "### Parece existir uma linearidade dos dados para Crops individuais !"
   ]
  },
  {
   "cell_type": "code",
   "execution_count": null,
   "metadata": {},
   "outputs": [],
   "source": [
    "RelationItensBackUp = RelationItens\n",
    "for k in diferenca:\n",
    "    RelationItens['Crop'].pop(k, None)"
   ]
  },
  {
   "cell_type": "code",
   "execution_count": null,
   "metadata": {},
   "outputs": [],
   "source": [
    "cropList = [RelationItens['Crop'][i] for i in list2]"
   ]
  },
  {
   "cell_type": "code",
   "execution_count": null,
   "metadata": {
    "scrolled": true
   },
   "outputs": [],
   "source": [
    "'''\n",
    "Plotando df2 (dataFrame com o problema de produção arrumado.\n",
    "'''\n",
    "plt.rcParams['axes.titlesize'] = 25\n",
    "rows = 15\n",
    "cols = int(len(list(df2['Crop'].value_counts().index)) / rows)\n",
    "fig, ax = plt.subplots(nrows=rows, ncols=cols,figsize=(36,100))\n",
    "fig.patch.set_facecolor('xkcd:mint green')\n",
    "k=0\n",
    "\n",
    "for i in range(rows):\n",
    "    for j in range(cols):\n",
    "        if (k == len(list(df2['Crop'].value_counts().index))):\n",
    "            break\n",
    "        ax[i][j].scatter(a[k][1]['Area'],a[k][1]['Production'])\n",
    "        ax[i][j].set_title(cropList[k])\n",
    "        k += 1"
   ]
  },
  {
   "cell_type": "code",
   "execution_count": null,
   "metadata": {},
   "outputs": [],
   "source": [
    "'''\n",
    "Plotando df2 (dataFrame com o problema de produção arrumado.\n",
    "'''\n",
    "plt.rcParams['axes.titlesize'] = 25\n",
    "rows = 15\n",
    "cols = int(len(list(df2['Crop'].value_counts().index)) / rows)\n",
    "fig, ax = plt.subplots(nrows=rows, ncols=cols,figsize=(36,100))\n",
    "fig.patch.set_facecolor('xkcd:mint green')\n",
    "k=0\n",
    "\n",
    "for i in range(rows):\n",
    "    for j in range(cols):\n",
    "        if (k == len(list(df2['Crop'].value_counts().index))):\n",
    "            break\n",
    "        ax[i][j].boxplot(a[k][1]['Production'])\n",
    "        ax[i][j].set_title(cropList[k])\n",
    "        k += 1"
   ]
  },
  {
   "cell_type": "markdown",
   "metadata": {},
   "source": [
    "### Vamos Aplicar uma regressão linear nos dados desagrupados!"
   ]
  },
  {
   "cell_type": "code",
   "execution_count": null,
   "metadata": {},
   "outputs": [],
   "source": [
    "from sklearn.metrics import r2_score\n",
    "\n",
    "def productionML(x2,y2,crop):\n",
    "    '''\n",
    "    Função que tem objetivo de aplicar uma Regressão Linear nos dados\n",
    "    e salvar o arquivo como o pickle'''\n",
    "    # Split Train and Test\n",
    "    x2_train, x2_test, y2_train, y2_test = train_test_split(x2, y2, \n",
    "                                                            test_size = 0.30,\n",
    "                                                           random_state = 42)\n",
    "    \n",
    "    from sklearn.linear_model import LinearRegression\n",
    "\n",
    "    #from sklearn.linear_model import LogisticRegression\n",
    "    model2 = LinearRegression()\n",
    "\n",
    "    model2.fit(x2_train, y2_train)\n",
    "    y2_pred = model2.predict(x2_test)\n",
    "    r2 = r2_score(y2_test, y2_pred)\n",
    "    #- R-squared (Coefficient of determination) represents the coefficient of how well the values fit compared to the original values.\n",
    "    # The value from 0 to 1 interpreted as percentages. The higher the value is, the better the model is.\n",
    "    #model_2_product = 'model2_P_cropEqual'+str(crop)+'.sav'\n",
    "    \n",
    "    #pickle.dump(model2, open(path+model_2_product, 'wb'))\n",
    "    \n",
    "    #print(\"'{}' : pickle.load(open('static/modelos/{}', 'rb')),\".format(str(crop),(model_2_product)))\n",
    "    # salva o modelo no disco\n",
    "    \n",
    "    return (model2)\n"
   ]
  },
  {
   "cell_type": "code",
   "execution_count": null,
   "metadata": {},
   "outputs": [],
   "source": [
    "trainCols = ['Area',  'Crop']\n",
    "targetCols = ['Production']\n",
    "\n",
    "x2=df2[trainCols].values\n",
    "y2=df2[targetCols].values"
   ]
  },
  {
   "cell_type": "code",
   "execution_count": null,
   "metadata": {},
   "outputs": [],
   "source": [
    "modeloT = productionML(x2,y2,'')\n",
    "## R^2 de 0.003 um numero bem baixo. Nosso R-squared é um coeficiente que representa o quão bem \n",
    "# nossos valores estão fitando os dados originais possuindo um intervalo de valores de 0 a 1 para expressar isso.\n",
    "# Quanto mais proximo de 1. melhor nossa regressão linear é.\n",
    "# Nesse caso, quase 0 de score, representa o pior dos cenários."
   ]
  },
  {
   "cell_type": "code",
   "execution_count": null,
   "metadata": {
    "scrolled": true
   },
   "outputs": [],
   "source": [
    "# Fazendo um modelo de regressão linear para cada crop individual\n",
    "trainCols = ['Area']\n",
    "targetCols = ['Production']\n",
    "modelVet = {}\n",
    "for i in range(len(a)):\n",
    "    modelVet[a[i][0]] = productionML(a[i][1][trainCols],\n",
    "                              a[i][1][targetCols],a[i][0])"
   ]
  },
  {
   "cell_type": "code",
   "execution_count": null,
   "metadata": {},
   "outputs": [],
   "source": [
    "model_2_product = 'model2_P_cropEqual_Final.sav'\n",
    "pickle.dump(modelVet, open(path+model_2_product, 'wb'))"
   ]
  },
  {
   "cell_type": "markdown",
   "metadata": {},
   "source": [
    "Metricas:\n",
    "- MAE (Mean absolute error) represents the difference between the original and predicted values extracted by averaged the absolute difference over the data set.\n",
    "- MSE (Mean Squared Error) represents the difference between the original and predicted values extracted by squared the average difference over the data set.\n",
    "- RMSE (Root Mean Squared Error) is the error rate by the square root of MSE.\n"
   ]
  }
 ],
 "metadata": {
  "kernelspec": {
   "display_name": "Python 3",
   "language": "python",
   "name": "python3"
  },
  "language_info": {
   "codemirror_mode": {
    "name": "ipython",
    "version": 3
   },
   "file_extension": ".py",
   "mimetype": "text/x-python",
   "name": "python",
   "nbconvert_exporter": "python",
   "pygments_lexer": "ipython3",
   "version": "3.7.4"
  },
  "toc": {
   "base_numbering": 1,
   "nav_menu": {},
   "number_sections": true,
   "sideBar": true,
   "skip_h1_title": false,
   "title_cell": "Table of Contents",
   "title_sidebar": "Contents",
   "toc_cell": false,
   "toc_position": {},
   "toc_section_display": true,
   "toc_window_display": false
  }
 },
 "nbformat": 4,
 "nbformat_minor": 4
}
